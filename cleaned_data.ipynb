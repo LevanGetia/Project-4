{
 "cells": [
  {
   "cell_type": "code",
   "execution_count": null,
   "id": "695a75c5",
   "metadata": {},
   "outputs": [],
   "source": [
    "import pandas as pd"
   ]
  },
  {
   "cell_type": "code",
   "execution_count": null,
   "id": "5df8cf3f",
   "metadata": {},
   "outputs": [],
   "source": [
    "# Load the data into a DataFrame \n",
    "df = pd.read_csv('mock_fashion_data_uk_us.csv')\n",
    "df"
   ]
  },
  {
   "cell_type": "code",
   "execution_count": null,
   "id": "4c67b6e7",
   "metadata": {},
   "outputs": [],
   "source": [
    "# Define the columns to drop\n",
    "columns_to_drop = ['Social Media Comments', 'Fashion Influencers', 'Fashion Magazines', 'feedback', 'Product Name','Time Period Highest Purchase', 'Purchase History', 'Description','Price']\n",
    "\n",
    "# Drop the specified columns\n",
    "df.drop(columns=columns_to_drop, inplace=True)\n",
    "\n",
    "df"
   ]
  },
  {
   "cell_type": "code",
   "execution_count": null,
   "id": "8384178f",
   "metadata": {},
   "outputs": [],
   "source": [
    "# Drop all NaN values if any\n",
    "df.dropna(inplace=True)"
   ]
  },
  {
   "cell_type": "code",
   "execution_count": null,
   "id": "0a24d1ab",
   "metadata": {},
   "outputs": [],
   "source": [
    "# Check if any NaN values are still present\n",
    "df.isnull().sum()"
   ]
  },
  {
   "cell_type": "code",
   "execution_count": null,
   "id": "75527c2e",
   "metadata": {},
   "outputs": [],
   "source": [
    "# Normalizing the rating column\n",
    "df['Rating'] = (df['Rating'] - df['Rating'].min()) / (df['Rating'].max() - df['Rating'].min()) * 5"
   ]
  },
  {
   "cell_type": "code",
   "execution_count": null,
   "id": "684da2c0",
   "metadata": {},
   "outputs": [],
   "source": [
    "# Normalizing the rating column\n",
    "df['Rating'] = (df['Rating'] - df['Rating'].min()) / (df['Rating'].max() - df['Rating'].min()) * 5"
   ]
  },
  {
   "cell_type": "code",
   "execution_count": null,
   "id": "32c4a4d3",
   "metadata": {},
   "outputs": [],
   "source": [
    "# Checking dataframe\n",
    "df.head()"
   ]
  },
  {
   "cell_type": "code",
   "execution_count": null,
   "id": "0a652577",
   "metadata": {},
   "outputs": [],
   "source": [
    "# Saving cleaned csv\n",
    "cleaned_csv_path = 'cleaned_data.csv'  \n",
    "df.to_csv(cleaned_csv_path, index=False)"
   ]
  }
 ],
 "metadata": {
  "kernelspec": {
   "display_name": "Python 3 (ipykernel)",
   "language": "python",
   "name": "python3"
  },
  "language_info": {
   "codemirror_mode": {
    "name": "ipython",
    "version": 3
   },
   "file_extension": ".py",
   "mimetype": "text/x-python",
   "name": "python",
   "nbconvert_exporter": "python",
   "pygments_lexer": "ipython3",
   "version": "3.9.16"
  }
 },
 "nbformat": 4,
 "nbformat_minor": 5
}
